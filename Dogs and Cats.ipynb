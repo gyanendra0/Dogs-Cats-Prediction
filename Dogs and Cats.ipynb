{
 "cells": [
  {
   "cell_type": "markdown",
   "metadata": {},
   "source": [
    "# Import Libraries"
   ]
  },
  {
   "cell_type": "code",
   "execution_count": 1,
   "metadata": {},
   "outputs": [],
   "source": [
    "import tensorflow as tf\n",
    "from keras.preprocessing.image import ImageDataGenerator"
   ]
  },
  {
   "cell_type": "code",
   "execution_count": 2,
   "metadata": {},
   "outputs": [
    {
     "name": "stdout",
     "output_type": "stream",
     "text": [
      "Found 8000 images belonging to 2 classes.\n"
     ]
    }
   ],
   "source": [
    "train_datagen = ImageDataGenerator(\n",
    "                rescale = 1./255,\n",
    "                shear_range = 0.2,\n",
    "                zoom_range = 0.2,\n",
    "                horizontal_flip = True\n",
    ")\n",
    "train_generator = train_datagen.flow_from_directory(\n",
    "                    'C:\\\\Users\\\\HP\\\\Desktop\\\\My Code\\\\dog vs cat\\\\dataset\\\\training_set',\n",
    "                    target_size = (64,64),\n",
    "                    batch_size = 32,\n",
    "                    class_mode = 'binary')\n"
   ]
  },
  {
   "cell_type": "code",
   "execution_count": 3,
   "metadata": {},
   "outputs": [
    {
     "name": "stdout",
     "output_type": "stream",
     "text": [
      "Found 2000 images belonging to 2 classes.\n"
     ]
    }
   ],
   "source": [
    "test_datagen = ImageDataGenerator(rescale= 1./255)\n",
    "validation_generator = train_datagen.flow_from_directory(\n",
    "                    'C:\\\\Users\\\\HP\\\\Desktop\\\\My Code\\\\dog vs cat\\\\dataset\\\\test_set',\n",
    "                    target_size = (64,64),\n",
    "                    batch_size = 32,\n",
    "                    class_mode = 'binary')"
   ]
  },
  {
   "cell_type": "code",
   "execution_count": 4,
   "metadata": {},
   "outputs": [],
   "source": [
    "cnn = tf.keras.models.Sequential()"
   ]
  },
  {
   "cell_type": "code",
   "execution_count": 5,
   "metadata": {},
   "outputs": [],
   "source": [
    "cnn.add(tf.keras.layers.Conv2D(filters = 32, kernel_size = 3, activation = 'relu',\n",
    "                              input_shape = [64,64,3]))"
   ]
  },
  {
   "cell_type": "code",
   "execution_count": 6,
   "metadata": {},
   "outputs": [],
   "source": [
    "cnn.add(tf.keras.layers.MaxPool2D(pool_size = 2, strides = 2))"
   ]
  },
  {
   "cell_type": "code",
   "execution_count": 7,
   "metadata": {},
   "outputs": [],
   "source": [
    "cnn.add(tf.keras.layers.Conv2D(filters = 32, kernel_size = 3, activation = 'relu'))\n",
    "cnn.add(tf.keras.layers.MaxPool2D(pool_size = 2, strides = 2))"
   ]
  },
  {
   "cell_type": "code",
   "execution_count": 8,
   "metadata": {},
   "outputs": [],
   "source": [
    "cnn.add(tf.keras.layers.Flatten())"
   ]
  },
  {
   "cell_type": "code",
   "execution_count": 9,
   "metadata": {},
   "outputs": [],
   "source": [
    "cnn.add(tf.keras.layers.Dense(units = 128, activation = 'relu'))"
   ]
  },
  {
   "cell_type": "code",
   "execution_count": 10,
   "metadata": {},
   "outputs": [],
   "source": [
    "cnn.add(tf.keras.layers.Dense(units = 1, activation = 'sigmoid'))"
   ]
  },
  {
   "cell_type": "code",
   "execution_count": 11,
   "metadata": {},
   "outputs": [],
   "source": [
    "cnn.compile(optimizer='adam', loss = 'binary_crossentropy', metrics=['accuracy'])"
   ]
  },
  {
   "cell_type": "code",
   "execution_count": 12,
   "metadata": {},
   "outputs": [
    {
     "name": "stdout",
     "output_type": "stream",
     "text": [
      "Epoch 1/15\n",
      "250/250 [==============================] - 119s 420ms/step - loss: 0.6750 - accuracy: 0.5816 - val_loss: 0.6411 - val_accuracy: 0.6240\n",
      "Epoch 2/15\n",
      "250/250 [==============================] - 66s 264ms/step - loss: 0.6137 - accuracy: 0.6649 - val_loss: 0.5747 - val_accuracy: 0.7185\n",
      "Epoch 3/15\n",
      "250/250 [==============================] - 76s 306ms/step - loss: 0.5769 - accuracy: 0.6954 - val_loss: 0.5546 - val_accuracy: 0.7245\n",
      "Epoch 4/15\n",
      "250/250 [==============================] - 81s 324ms/step - loss: 0.5299 - accuracy: 0.7339 - val_loss: 0.5394 - val_accuracy: 0.7385\n",
      "Epoch 5/15\n",
      "250/250 [==============================] - 77s 310ms/step - loss: 0.5072 - accuracy: 0.7525 - val_loss: 0.4943 - val_accuracy: 0.7645\n",
      "Epoch 6/15\n",
      "250/250 [==============================] - 87s 349ms/step - loss: 0.4827 - accuracy: 0.7591 - val_loss: 0.4854 - val_accuracy: 0.7705\n",
      "Epoch 7/15\n",
      "250/250 [==============================] - 94s 374ms/step - loss: 0.4632 - accuracy: 0.7753 - val_loss: 0.5024 - val_accuracy: 0.7495\n",
      "Epoch 8/15\n",
      "250/250 [==============================] - 69s 274ms/step - loss: 0.4459 - accuracy: 0.7914 - val_loss: 0.5253 - val_accuracy: 0.7475\n",
      "Epoch 9/15\n",
      "250/250 [==============================] - 65s 261ms/step - loss: 0.4281 - accuracy: 0.7984 - val_loss: 0.5031 - val_accuracy: 0.7640\n",
      "Epoch 10/15\n",
      "250/250 [==============================] - 87s 348ms/step - loss: 0.4106 - accuracy: 0.8141 - val_loss: 0.4681 - val_accuracy: 0.7850\n",
      "Epoch 11/15\n",
      "250/250 [==============================] - 54s 217ms/step - loss: 0.3950 - accuracy: 0.8211 - val_loss: 0.4715 - val_accuracy: 0.7815\n",
      "Epoch 12/15\n",
      "250/250 [==============================] - 69s 274ms/step - loss: 0.3939 - accuracy: 0.8170 - val_loss: 0.4951 - val_accuracy: 0.7660\n",
      "Epoch 13/15\n",
      "250/250 [==============================] - 96s 383ms/step - loss: 0.3725 - accuracy: 0.8313 - val_loss: 0.4697 - val_accuracy: 0.7820\n",
      "Epoch 14/15\n",
      "250/250 [==============================] - 92s 366ms/step - loss: 0.3508 - accuracy: 0.8410 - val_loss: 0.4716 - val_accuracy: 0.7945\n",
      "Epoch 15/15\n",
      "250/250 [==============================] - 91s 362ms/step - loss: 0.3477 - accuracy: 0.8465 - val_loss: 0.4671 - val_accuracy: 0.7855\n"
     ]
    },
    {
     "data": {
      "text/plain": [
       "<keras.callbacks.History at 0x19a0e6a8b38>"
      ]
     },
     "execution_count": 12,
     "metadata": {},
     "output_type": "execute_result"
    }
   ],
   "source": [
    "cnn.fit(x = train_generator, validation_data=validation_generator,epochs=15)"
   ]
  },
  {
   "cell_type": "code",
   "execution_count": 15,
   "metadata": {},
   "outputs": [],
   "source": [
    "import numpy as np\n",
    "from keras.preprocessing import image\n",
    "test_image = image.load_img(\"C:\\\\Users\\\\HP\\\\Downloads\\\\dog.jpeg\", target_size=(64,64))\n",
    "image.img_to_array(test_image)\n",
    "test_image = np.expand_dims(test_image, axis = 0)\n",
    "result = cnn.predict(test_image)\n",
    "train_generator.class_indices\n",
    "if result==1:\n",
    "    prediction = 'dog'\n",
    "else:\n",
    "    prediction = 'cat'"
   ]
  },
  {
   "cell_type": "code",
   "execution_count": 16,
   "metadata": {},
   "outputs": [
    {
     "data": {
      "text/plain": [
       "'dog'"
      ]
     },
     "execution_count": 16,
     "metadata": {},
     "output_type": "execute_result"
    }
   ],
   "source": [
    "prediction"
   ]
  },
  {
   "cell_type": "code",
   "execution_count": null,
   "metadata": {},
   "outputs": [],
   "source": []
  }
 ],
 "metadata": {
  "kernelspec": {
   "display_name": "Python 3",
   "language": "python",
   "name": "python3"
  },
  "language_info": {
   "codemirror_mode": {
    "name": "ipython",
    "version": 3
   },
   "file_extension": ".py",
   "mimetype": "text/x-python",
   "name": "python",
   "nbconvert_exporter": "python",
   "pygments_lexer": "ipython3",
   "version": "3.7.3"
  }
 },
 "nbformat": 4,
 "nbformat_minor": 2
}
